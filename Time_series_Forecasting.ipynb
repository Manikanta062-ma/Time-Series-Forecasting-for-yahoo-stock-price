{
  "nbformat": 4,
  "nbformat_minor": 0,
  "metadata": {
    "colab": {
      "provenance": []
    },
    "kernelspec": {
      "name": "python3",
      "display_name": "Python 3"
    },
    "language_info": {
      "name": "python"
    }
  },
  "cells": [
    {
      "cell_type": "markdown",
      "source": [
        "# **Time series forecasting for Google stock price**"
      ],
      "metadata": {
        "id": "g3I62Gcnyi_x"
      }
    },
    {
      "cell_type": "markdown",
      "source": [
        "# Introduction"
      ],
      "metadata": {
        "id": "Xuxo5KQezjKv"
      }
    },
    {
      "cell_type": "markdown",
      "source": [
        "This project aims to perform time series forecasting on Google stock prices using historical data from 2010 to 2022. The goal is to develop an accurate model to predict future stock prices, leveraging the ARIMA (AutoRegressive Integrated Moving Average) model. The process involves loading the dataset, conducting exploratory data analysis (EDA) to understand its structure and characteristics, preprocessing the data for modeling, splitting it into training and testing sets, and finally building and evaluating the forecasting model. The focus is primarily on the 'Close' price of the stock, as it is a widely used indicator in financial analysis and provides a reliable measure of the stock's value at the end of each trading day."
      ],
      "metadata": {
        "id": "VG8gJPk3zqdC"
      }
    },
    {
      "cell_type": "markdown",
      "source": [
        "# Description of Data"
      ],
      "metadata": {
        "id": "qe3-Zm5Y0WsZ"
      }
    },
    {
      "cell_type": "markdown",
      "source": [
        "Here's a brief description of each column:\n",
        "\n",
        "1.Date: The date of the recorded financial data.\n",
        "\n",
        "2.High: The highest price of the financial asset (e.g., stock) during the given date.\n",
        "\n",
        "3.Low: The lowest price of the financial asset during the given date.\n",
        "\n",
        "4.Open: The opening price of the financial asset at the beginning of the given date.\n",
        "\n",
        "5.Close: The closing price of the financial asset at the end of the given date.\n",
        "\n",
        "6.Volume: The trading volume or the number of shares/contracts traded during the given date.\n",
        "\n",
        "7.Adj Close: The adjusted closing price of the financial asset at the end of the given date. Adjusted closing prices take into account factors such as dividends and stock splits."
      ],
      "metadata": {
        "id": "Ynm4GUk81San"
      }
    },
    {
      "cell_type": "markdown",
      "source": [
        "Mounting to the drive"
      ],
      "metadata": {
        "id": "og2dF5S82dlR"
      }
    },
    {
      "cell_type": "code",
      "source": [
        "from google.colab import drive\n",
        "drive.mount('/content/drive')"
      ],
      "metadata": {
        "colab": {
          "base_uri": "https://localhost:8080/"
        },
        "id": "aaU-Fplqm5jn",
        "outputId": "4c5be62c-472f-4b24-d1b2-8312fd9bf613"
      },
      "execution_count": 55,
      "outputs": [
        {
          "output_type": "stream",
          "name": "stdout",
          "text": [
            "Drive already mounted at /content/drive; to attempt to forcibly remount, call drive.mount(\"/content/drive\", force_remount=True).\n"
          ]
        }
      ]
    },
    {
      "cell_type": "markdown",
      "source": [
        "## Import necessary libraries"
      ],
      "metadata": {
        "id": "qd50H0FVEJFb"
      }
    },
    {
      "cell_type": "code",
      "source": [
        "#Data manipulation\n",
        "import pandas as pd\n",
        "import numpy as np\n",
        "#Data visualization\n",
        "import matplotlib.pyplot as plt\n",
        "import seaborn as sns\n",
        "#Data preprocessing\n",
        "from datetime import date\n",
        "# from pandas.tseries.offsets import DateOffset\n",
        "# #Data analysis\n",
        "# import plotly.express as px\n",
        "# Modeling\n",
        "from statsmodels.tsa.seasonal import seasonal_decompose\n",
        "from statsmodels.tsa.stattools import adfuller\n",
        "from statsmodels.graphics.tsaplots import plot_acf,plot_pacf\n",
        "from statsmodels.tsa.arima.model import ARIMA\n",
        "import statsmodels.api as sm\n",
        "from statsmodels.tsa.statespace.sarimax import SARIMAX\n",
        "import itertools\n",
        "# !pip install pmdarima\n",
        "# from pmdarima.arima import auto_arima\n",
        "import warnings\n",
        "warnings.filterwarnings('ignore')"
      ],
      "metadata": {
        "id": "5rtIEsXrWhr3"
      },
      "execution_count": 56,
      "outputs": []
    },
    {
      "cell_type": "markdown",
      "source": [
        "## Loading the dataset"
      ],
      "metadata": {
        "id": "aUGH3ioPEhQF"
      }
    },
    {
      "cell_type": "code",
      "source": [
        "df=pd.read_csv(\"/content/drive/MyDrive/Google_Stock_Train (2010-2022).csv\")    #Reading the csv file\n",
        "df.head()                                                                      #gives top 5 rows"
      ],
      "metadata": {
        "id": "CGaZPjABlFxE",
        "colab": {
          "base_uri": "https://localhost:8080/",
          "height": 206
        },
        "outputId": "eb2b8e3c-8660-4513-8924-b5a25c75e8b6"
      },
      "execution_count": 57,
      "outputs": [
        {
          "output_type": "execute_result",
          "data": {
            "text/plain": [
              "         Date       Open       High        Low      Close  Adj Close  \\\n",
              "0  2010-01-04  15.689439  15.753504  15.621622  15.684434  15.684434   \n",
              "1  2010-01-05  15.695195  15.711712  15.554054  15.615365  15.615365   \n",
              "2  2010-01-06  15.662162  15.662162  15.174174  15.221722  15.221722   \n",
              "3  2010-01-07  15.250250  15.265265  14.831081  14.867367  14.867367   \n",
              "4  2010-01-08  14.814815  15.096346  14.742492  15.065566  15.065566   \n",
              "\n",
              "      Volume  \n",
              "0   78169752  \n",
              "1  120067812  \n",
              "2  158988852  \n",
              "3  256315428  \n",
              "4  188783028  "
            ],
            "text/html": [
              "\n",
              "  <div id=\"df-25d6d5dc-5e32-4792-9c1a-d85b65a5fc93\" class=\"colab-df-container\">\n",
              "    <div>\n",
              "<style scoped>\n",
              "    .dataframe tbody tr th:only-of-type {\n",
              "        vertical-align: middle;\n",
              "    }\n",
              "\n",
              "    .dataframe tbody tr th {\n",
              "        vertical-align: top;\n",
              "    }\n",
              "\n",
              "    .dataframe thead th {\n",
              "        text-align: right;\n",
              "    }\n",
              "</style>\n",
              "<table border=\"1\" class=\"dataframe\">\n",
              "  <thead>\n",
              "    <tr style=\"text-align: right;\">\n",
              "      <th></th>\n",
              "      <th>Date</th>\n",
              "      <th>Open</th>\n",
              "      <th>High</th>\n",
              "      <th>Low</th>\n",
              "      <th>Close</th>\n",
              "      <th>Adj Close</th>\n",
              "      <th>Volume</th>\n",
              "    </tr>\n",
              "  </thead>\n",
              "  <tbody>\n",
              "    <tr>\n",
              "      <th>0</th>\n",
              "      <td>2010-01-04</td>\n",
              "      <td>15.689439</td>\n",
              "      <td>15.753504</td>\n",
              "      <td>15.621622</td>\n",
              "      <td>15.684434</td>\n",
              "      <td>15.684434</td>\n",
              "      <td>78169752</td>\n",
              "    </tr>\n",
              "    <tr>\n",
              "      <th>1</th>\n",
              "      <td>2010-01-05</td>\n",
              "      <td>15.695195</td>\n",
              "      <td>15.711712</td>\n",
              "      <td>15.554054</td>\n",
              "      <td>15.615365</td>\n",
              "      <td>15.615365</td>\n",
              "      <td>120067812</td>\n",
              "    </tr>\n",
              "    <tr>\n",
              "      <th>2</th>\n",
              "      <td>2010-01-06</td>\n",
              "      <td>15.662162</td>\n",
              "      <td>15.662162</td>\n",
              "      <td>15.174174</td>\n",
              "      <td>15.221722</td>\n",
              "      <td>15.221722</td>\n",
              "      <td>158988852</td>\n",
              "    </tr>\n",
              "    <tr>\n",
              "      <th>3</th>\n",
              "      <td>2010-01-07</td>\n",
              "      <td>15.250250</td>\n",
              "      <td>15.265265</td>\n",
              "      <td>14.831081</td>\n",
              "      <td>14.867367</td>\n",
              "      <td>14.867367</td>\n",
              "      <td>256315428</td>\n",
              "    </tr>\n",
              "    <tr>\n",
              "      <th>4</th>\n",
              "      <td>2010-01-08</td>\n",
              "      <td>14.814815</td>\n",
              "      <td>15.096346</td>\n",
              "      <td>14.742492</td>\n",
              "      <td>15.065566</td>\n",
              "      <td>15.065566</td>\n",
              "      <td>188783028</td>\n",
              "    </tr>\n",
              "  </tbody>\n",
              "</table>\n",
              "</div>\n",
              "    <div class=\"colab-df-buttons\">\n",
              "\n",
              "  <div class=\"colab-df-container\">\n",
              "    <button class=\"colab-df-convert\" onclick=\"convertToInteractive('df-25d6d5dc-5e32-4792-9c1a-d85b65a5fc93')\"\n",
              "            title=\"Convert this dataframe to an interactive table.\"\n",
              "            style=\"display:none;\">\n",
              "\n",
              "  <svg xmlns=\"http://www.w3.org/2000/svg\" height=\"24px\" viewBox=\"0 -960 960 960\">\n",
              "    <path d=\"M120-120v-720h720v720H120Zm60-500h600v-160H180v160Zm220 220h160v-160H400v160Zm0 220h160v-160H400v160ZM180-400h160v-160H180v160Zm440 0h160v-160H620v160ZM180-180h160v-160H180v160Zm440 0h160v-160H620v160Z\"/>\n",
              "  </svg>\n",
              "    </button>\n",
              "\n",
              "  <style>\n",
              "    .colab-df-container {\n",
              "      display:flex;\n",
              "      gap: 12px;\n",
              "    }\n",
              "\n",
              "    .colab-df-convert {\n",
              "      background-color: #E8F0FE;\n",
              "      border: none;\n",
              "      border-radius: 50%;\n",
              "      cursor: pointer;\n",
              "      display: none;\n",
              "      fill: #1967D2;\n",
              "      height: 32px;\n",
              "      padding: 0 0 0 0;\n",
              "      width: 32px;\n",
              "    }\n",
              "\n",
              "    .colab-df-convert:hover {\n",
              "      background-color: #E2EBFA;\n",
              "      box-shadow: 0px 1px 2px rgba(60, 64, 67, 0.3), 0px 1px 3px 1px rgba(60, 64, 67, 0.15);\n",
              "      fill: #174EA6;\n",
              "    }\n",
              "\n",
              "    .colab-df-buttons div {\n",
              "      margin-bottom: 4px;\n",
              "    }\n",
              "\n",
              "    [theme=dark] .colab-df-convert {\n",
              "      background-color: #3B4455;\n",
              "      fill: #D2E3FC;\n",
              "    }\n",
              "\n",
              "    [theme=dark] .colab-df-convert:hover {\n",
              "      background-color: #434B5C;\n",
              "      box-shadow: 0px 1px 3px 1px rgba(0, 0, 0, 0.15);\n",
              "      filter: drop-shadow(0px 1px 2px rgba(0, 0, 0, 0.3));\n",
              "      fill: #FFFFFF;\n",
              "    }\n",
              "  </style>\n",
              "\n",
              "    <script>\n",
              "      const buttonEl =\n",
              "        document.querySelector('#df-25d6d5dc-5e32-4792-9c1a-d85b65a5fc93 button.colab-df-convert');\n",
              "      buttonEl.style.display =\n",
              "        google.colab.kernel.accessAllowed ? 'block' : 'none';\n",
              "\n",
              "      async function convertToInteractive(key) {\n",
              "        const element = document.querySelector('#df-25d6d5dc-5e32-4792-9c1a-d85b65a5fc93');\n",
              "        const dataTable =\n",
              "          await google.colab.kernel.invokeFunction('convertToInteractive',\n",
              "                                                    [key], {});\n",
              "        if (!dataTable) return;\n",
              "\n",
              "        const docLinkHtml = 'Like what you see? Visit the ' +\n",
              "          '<a target=\"_blank\" href=https://colab.research.google.com/notebooks/data_table.ipynb>data table notebook</a>'\n",
              "          + ' to learn more about interactive tables.';\n",
              "        element.innerHTML = '';\n",
              "        dataTable['output_type'] = 'display_data';\n",
              "        await google.colab.output.renderOutput(dataTable, element);\n",
              "        const docLink = document.createElement('div');\n",
              "        docLink.innerHTML = docLinkHtml;\n",
              "        element.appendChild(docLink);\n",
              "      }\n",
              "    </script>\n",
              "  </div>\n",
              "\n",
              "\n",
              "<div id=\"df-a4e34ffb-ec07-4821-9d2f-93e7ddeb2b09\">\n",
              "  <button class=\"colab-df-quickchart\" onclick=\"quickchart('df-a4e34ffb-ec07-4821-9d2f-93e7ddeb2b09')\"\n",
              "            title=\"Suggest charts\"\n",
              "            style=\"display:none;\">\n",
              "\n",
              "<svg xmlns=\"http://www.w3.org/2000/svg\" height=\"24px\"viewBox=\"0 0 24 24\"\n",
              "     width=\"24px\">\n",
              "    <g>\n",
              "        <path d=\"M19 3H5c-1.1 0-2 .9-2 2v14c0 1.1.9 2 2 2h14c1.1 0 2-.9 2-2V5c0-1.1-.9-2-2-2zM9 17H7v-7h2v7zm4 0h-2V7h2v10zm4 0h-2v-4h2v4z\"/>\n",
              "    </g>\n",
              "</svg>\n",
              "  </button>\n",
              "\n",
              "<style>\n",
              "  .colab-df-quickchart {\n",
              "      --bg-color: #E8F0FE;\n",
              "      --fill-color: #1967D2;\n",
              "      --hover-bg-color: #E2EBFA;\n",
              "      --hover-fill-color: #174EA6;\n",
              "      --disabled-fill-color: #AAA;\n",
              "      --disabled-bg-color: #DDD;\n",
              "  }\n",
              "\n",
              "  [theme=dark] .colab-df-quickchart {\n",
              "      --bg-color: #3B4455;\n",
              "      --fill-color: #D2E3FC;\n",
              "      --hover-bg-color: #434B5C;\n",
              "      --hover-fill-color: #FFFFFF;\n",
              "      --disabled-bg-color: #3B4455;\n",
              "      --disabled-fill-color: #666;\n",
              "  }\n",
              "\n",
              "  .colab-df-quickchart {\n",
              "    background-color: var(--bg-color);\n",
              "    border: none;\n",
              "    border-radius: 50%;\n",
              "    cursor: pointer;\n",
              "    display: none;\n",
              "    fill: var(--fill-color);\n",
              "    height: 32px;\n",
              "    padding: 0;\n",
              "    width: 32px;\n",
              "  }\n",
              "\n",
              "  .colab-df-quickchart:hover {\n",
              "    background-color: var(--hover-bg-color);\n",
              "    box-shadow: 0 1px 2px rgba(60, 64, 67, 0.3), 0 1px 3px 1px rgba(60, 64, 67, 0.15);\n",
              "    fill: var(--button-hover-fill-color);\n",
              "  }\n",
              "\n",
              "  .colab-df-quickchart-complete:disabled,\n",
              "  .colab-df-quickchart-complete:disabled:hover {\n",
              "    background-color: var(--disabled-bg-color);\n",
              "    fill: var(--disabled-fill-color);\n",
              "    box-shadow: none;\n",
              "  }\n",
              "\n",
              "  .colab-df-spinner {\n",
              "    border: 2px solid var(--fill-color);\n",
              "    border-color: transparent;\n",
              "    border-bottom-color: var(--fill-color);\n",
              "    animation:\n",
              "      spin 1s steps(1) infinite;\n",
              "  }\n",
              "\n",
              "  @keyframes spin {\n",
              "    0% {\n",
              "      border-color: transparent;\n",
              "      border-bottom-color: var(--fill-color);\n",
              "      border-left-color: var(--fill-color);\n",
              "    }\n",
              "    20% {\n",
              "      border-color: transparent;\n",
              "      border-left-color: var(--fill-color);\n",
              "      border-top-color: var(--fill-color);\n",
              "    }\n",
              "    30% {\n",
              "      border-color: transparent;\n",
              "      border-left-color: var(--fill-color);\n",
              "      border-top-color: var(--fill-color);\n",
              "      border-right-color: var(--fill-color);\n",
              "    }\n",
              "    40% {\n",
              "      border-color: transparent;\n",
              "      border-right-color: var(--fill-color);\n",
              "      border-top-color: var(--fill-color);\n",
              "    }\n",
              "    60% {\n",
              "      border-color: transparent;\n",
              "      border-right-color: var(--fill-color);\n",
              "    }\n",
              "    80% {\n",
              "      border-color: transparent;\n",
              "      border-right-color: var(--fill-color);\n",
              "      border-bottom-color: var(--fill-color);\n",
              "    }\n",
              "    90% {\n",
              "      border-color: transparent;\n",
              "      border-bottom-color: var(--fill-color);\n",
              "    }\n",
              "  }\n",
              "</style>\n",
              "\n",
              "  <script>\n",
              "    async function quickchart(key) {\n",
              "      const quickchartButtonEl =\n",
              "        document.querySelector('#' + key + ' button');\n",
              "      quickchartButtonEl.disabled = true;  // To prevent multiple clicks.\n",
              "      quickchartButtonEl.classList.add('colab-df-spinner');\n",
              "      try {\n",
              "        const charts = await google.colab.kernel.invokeFunction(\n",
              "            'suggestCharts', [key], {});\n",
              "      } catch (error) {\n",
              "        console.error('Error during call to suggestCharts:', error);\n",
              "      }\n",
              "      quickchartButtonEl.classList.remove('colab-df-spinner');\n",
              "      quickchartButtonEl.classList.add('colab-df-quickchart-complete');\n",
              "    }\n",
              "    (() => {\n",
              "      let quickchartButtonEl =\n",
              "        document.querySelector('#df-a4e34ffb-ec07-4821-9d2f-93e7ddeb2b09 button');\n",
              "      quickchartButtonEl.style.display =\n",
              "        google.colab.kernel.accessAllowed ? 'block' : 'none';\n",
              "    })();\n",
              "  </script>\n",
              "</div>\n",
              "\n",
              "    </div>\n",
              "  </div>\n"
            ],
            "application/vnd.google.colaboratory.intrinsic+json": {
              "type": "dataframe",
              "variable_name": "df",
              "summary": "{\n  \"name\": \"df\",\n  \"rows\": 3272,\n  \"fields\": [\n    {\n      \"column\": \"Date\",\n      \"properties\": {\n        \"dtype\": \"object\",\n        \"num_unique_values\": 3272,\n        \"samples\": [\n          \"2022-05-06\",\n          \"2010-07-23\",\n          \"2013-05-31\"\n        ],\n        \"semantic_type\": \"\",\n        \"description\": \"\"\n      }\n    },\n    {\n      \"column\": \"Open\",\n      \"properties\": {\n        \"dtype\": \"number\",\n        \"std\": 35.81044878476691,\n        \"min\": 10.968719,\n        \"max\": 151.25,\n        \"num_unique_values\": 3204,\n        \"samples\": [\n          14.161662,\n          114.955498,\n          91.700996\n        ],\n        \"semantic_type\": \"\",\n        \"description\": \"\"\n      }\n    },\n    {\n      \"column\": \"High\",\n      \"properties\": {\n        \"dtype\": \"number\",\n        \"std\": 36.216442918128415,\n        \"min\": 11.068068,\n        \"max\": 151.546494,\n        \"num_unique_values\": 3184,\n        \"samples\": [\n          27.4925,\n          30.752752,\n          19.613363\n        ],\n        \"semantic_type\": \"\",\n        \"description\": \"\"\n      }\n    },\n    {\n      \"column\": \"Low\",\n      \"properties\": {\n        \"dtype\": \"number\",\n        \"std\": 35.38764407677487,\n        \"min\": 10.851602,\n        \"max\": 148.899002,\n        \"num_unique_values\": 3215,\n        \"samples\": [\n          27.336,\n          12.266517,\n          141.600006\n        ],\n        \"semantic_type\": \"\",\n        \"description\": \"\"\n      }\n    },\n    {\n      \"column\": \"Close\",\n      \"properties\": {\n        \"dtype\": \"number\",\n        \"std\": 35.80409426472399,\n        \"min\": 10.912663,\n        \"max\": 149.838501,\n        \"num_unique_values\": 3239,\n        \"samples\": [\n          22.053804,\n          60.285,\n          32.0075\n        ],\n        \"semantic_type\": \"\",\n        \"description\": \"\"\n      }\n    },\n    {\n      \"column\": \"Adj Close\",\n      \"properties\": {\n        \"dtype\": \"number\",\n        \"std\": 35.80409426472399,\n        \"min\": 10.912663,\n        \"max\": 149.838501,\n        \"num_unique_values\": 3239,\n        \"samples\": [\n          22.053804,\n          60.285,\n          32.0075\n        ],\n        \"semantic_type\": \"\",\n        \"description\": \"\"\n      }\n    },\n    {\n      \"column\": \"Volume\",\n      \"properties\": {\n        \"dtype\": \"number\",\n        \"std\": 49576091,\n        \"min\": 9312000,\n        \"max\": 592399008,\n        \"num_unique_values\": 3163,\n        \"samples\": [\n          21002000,\n          92607300,\n          68327604\n        ],\n        \"semantic_type\": \"\",\n        \"description\": \"\"\n      }\n    }\n  ]\n}"
            }
          },
          "metadata": {},
          "execution_count": 57
        }
      ]
    },
    {
      "cell_type": "markdown",
      "source": [
        "## Data Preprocessing"
      ],
      "metadata": {
        "id": "hOgmp06Pl9BR"
      }
    },
    {
      "cell_type": "code",
      "source": [
        "# df=df[['Date','Close']]\n",
        "# df.head()"
      ],
      "metadata": {
        "id": "CyZqOZ05beb1"
      },
      "execution_count": 58,
      "outputs": []
    },
    {
      "cell_type": "code",
      "source": [
        "df.info() #gives information about the data"
      ],
      "metadata": {
        "colab": {
          "base_uri": "https://localhost:8080/"
        },
        "id": "s__0RTOonLJF",
        "outputId": "2f8079db-f2aa-4951-a5c7-51f9804dabfe"
      },
      "execution_count": 59,
      "outputs": [
        {
          "output_type": "stream",
          "name": "stdout",
          "text": [
            "<class 'pandas.core.frame.DataFrame'>\n",
            "RangeIndex: 3272 entries, 0 to 3271\n",
            "Data columns (total 7 columns):\n",
            " #   Column     Non-Null Count  Dtype  \n",
            "---  ------     --------------  -----  \n",
            " 0   Date       3272 non-null   object \n",
            " 1   Open       3272 non-null   float64\n",
            " 2   High       3272 non-null   float64\n",
            " 3   Low        3272 non-null   float64\n",
            " 4   Close      3272 non-null   float64\n",
            " 5   Adj Close  3272 non-null   float64\n",
            " 6   Volume     3272 non-null   int64  \n",
            "dtypes: float64(5), int64(1), object(1)\n",
            "memory usage: 179.1+ KB\n"
          ]
        }
      ]
    },
    {
      "cell_type": "code",
      "source": [
        "df.columns #gives columns name"
      ],
      "metadata": {
        "colab": {
          "base_uri": "https://localhost:8080/"
        },
        "id": "ujEg_ad1wP7Z",
        "outputId": "da0a3661-ffde-4494-e7c5-f2f9ce43c805"
      },
      "execution_count": 60,
      "outputs": [
        {
          "output_type": "execute_result",
          "data": {
            "text/plain": [
              "Index(['Date', 'Open', 'High', 'Low', 'Close', 'Adj Close', 'Volume'], dtype='object')"
            ]
          },
          "metadata": {},
          "execution_count": 60
        }
      ]
    },
    {
      "cell_type": "code",
      "source": [
        "df.describe(include=\"all\")  #gives statistical information about the data"
      ],
      "metadata": {
        "colab": {
          "base_uri": "https://localhost:8080/",
          "height": 395
        },
        "id": "6qp4ZpARwSi4",
        "outputId": "2c2050fb-247a-4a7b-9446-9ce3556d9df7"
      },
      "execution_count": 61,
      "outputs": [
        {
          "output_type": "execute_result",
          "data": {
            "text/plain": [
              "              Date         Open         High          Low        Close  \\\n",
              "count         3272  3272.000000  3272.000000  3272.000000  3272.000000   \n",
              "unique        3272          NaN          NaN          NaN          NaN   \n",
              "top     2010-01-04          NaN          NaN          NaN          NaN   \n",
              "freq             1          NaN          NaN          NaN          NaN   \n",
              "mean           NaN    49.161187    49.650301    48.653316    49.160898   \n",
              "std            NaN    35.810449    36.216443    35.387644    35.804094   \n",
              "min            NaN    10.968719    11.068068    10.851602    10.912663   \n",
              "25%            NaN    20.281718    20.426113    20.172359    20.295858   \n",
              "50%            NaN    38.527750    38.931249    38.224501    38.563002   \n",
              "75%            NaN    61.837625    62.265000    61.218125    61.738001   \n",
              "max            NaN   151.250000   151.546494   148.899002   149.838501   \n",
              "\n",
              "          Adj Close        Volume  \n",
              "count   3272.000000  3.272000e+03  \n",
              "unique          NaN           NaN  \n",
              "top             NaN           NaN  \n",
              "freq            NaN           NaN  \n",
              "mean      49.160898  6.017541e+07  \n",
              "std       35.804094  4.957609e+07  \n",
              "min       10.912663  9.312000e+06  \n",
              "25%       20.295858  2.894200e+07  \n",
              "50%       38.563002  4.123200e+07  \n",
              "75%       61.738001  7.927251e+07  \n",
              "max      149.838501  5.923990e+08  "
            ],
            "text/html": [
              "\n",
              "  <div id=\"df-2c8d021f-f9ea-4b44-9030-410494573e88\" class=\"colab-df-container\">\n",
              "    <div>\n",
              "<style scoped>\n",
              "    .dataframe tbody tr th:only-of-type {\n",
              "        vertical-align: middle;\n",
              "    }\n",
              "\n",
              "    .dataframe tbody tr th {\n",
              "        vertical-align: top;\n",
              "    }\n",
              "\n",
              "    .dataframe thead th {\n",
              "        text-align: right;\n",
              "    }\n",
              "</style>\n",
              "<table border=\"1\" class=\"dataframe\">\n",
              "  <thead>\n",
              "    <tr style=\"text-align: right;\">\n",
              "      <th></th>\n",
              "      <th>Date</th>\n",
              "      <th>Open</th>\n",
              "      <th>High</th>\n",
              "      <th>Low</th>\n",
              "      <th>Close</th>\n",
              "      <th>Adj Close</th>\n",
              "      <th>Volume</th>\n",
              "    </tr>\n",
              "  </thead>\n",
              "  <tbody>\n",
              "    <tr>\n",
              "      <th>count</th>\n",
              "      <td>3272</td>\n",
              "      <td>3272.000000</td>\n",
              "      <td>3272.000000</td>\n",
              "      <td>3272.000000</td>\n",
              "      <td>3272.000000</td>\n",
              "      <td>3272.000000</td>\n",
              "      <td>3.272000e+03</td>\n",
              "    </tr>\n",
              "    <tr>\n",
              "      <th>unique</th>\n",
              "      <td>3272</td>\n",
              "      <td>NaN</td>\n",
              "      <td>NaN</td>\n",
              "      <td>NaN</td>\n",
              "      <td>NaN</td>\n",
              "      <td>NaN</td>\n",
              "      <td>NaN</td>\n",
              "    </tr>\n",
              "    <tr>\n",
              "      <th>top</th>\n",
              "      <td>2010-01-04</td>\n",
              "      <td>NaN</td>\n",
              "      <td>NaN</td>\n",
              "      <td>NaN</td>\n",
              "      <td>NaN</td>\n",
              "      <td>NaN</td>\n",
              "      <td>NaN</td>\n",
              "    </tr>\n",
              "    <tr>\n",
              "      <th>freq</th>\n",
              "      <td>1</td>\n",
              "      <td>NaN</td>\n",
              "      <td>NaN</td>\n",
              "      <td>NaN</td>\n",
              "      <td>NaN</td>\n",
              "      <td>NaN</td>\n",
              "      <td>NaN</td>\n",
              "    </tr>\n",
              "    <tr>\n",
              "      <th>mean</th>\n",
              "      <td>NaN</td>\n",
              "      <td>49.161187</td>\n",
              "      <td>49.650301</td>\n",
              "      <td>48.653316</td>\n",
              "      <td>49.160898</td>\n",
              "      <td>49.160898</td>\n",
              "      <td>6.017541e+07</td>\n",
              "    </tr>\n",
              "    <tr>\n",
              "      <th>std</th>\n",
              "      <td>NaN</td>\n",
              "      <td>35.810449</td>\n",
              "      <td>36.216443</td>\n",
              "      <td>35.387644</td>\n",
              "      <td>35.804094</td>\n",
              "      <td>35.804094</td>\n",
              "      <td>4.957609e+07</td>\n",
              "    </tr>\n",
              "    <tr>\n",
              "      <th>min</th>\n",
              "      <td>NaN</td>\n",
              "      <td>10.968719</td>\n",
              "      <td>11.068068</td>\n",
              "      <td>10.851602</td>\n",
              "      <td>10.912663</td>\n",
              "      <td>10.912663</td>\n",
              "      <td>9.312000e+06</td>\n",
              "    </tr>\n",
              "    <tr>\n",
              "      <th>25%</th>\n",
              "      <td>NaN</td>\n",
              "      <td>20.281718</td>\n",
              "      <td>20.426113</td>\n",
              "      <td>20.172359</td>\n",
              "      <td>20.295858</td>\n",
              "      <td>20.295858</td>\n",
              "      <td>2.894200e+07</td>\n",
              "    </tr>\n",
              "    <tr>\n",
              "      <th>50%</th>\n",
              "      <td>NaN</td>\n",
              "      <td>38.527750</td>\n",
              "      <td>38.931249</td>\n",
              "      <td>38.224501</td>\n",
              "      <td>38.563002</td>\n",
              "      <td>38.563002</td>\n",
              "      <td>4.123200e+07</td>\n",
              "    </tr>\n",
              "    <tr>\n",
              "      <th>75%</th>\n",
              "      <td>NaN</td>\n",
              "      <td>61.837625</td>\n",
              "      <td>62.265000</td>\n",
              "      <td>61.218125</td>\n",
              "      <td>61.738001</td>\n",
              "      <td>61.738001</td>\n",
              "      <td>7.927251e+07</td>\n",
              "    </tr>\n",
              "    <tr>\n",
              "      <th>max</th>\n",
              "      <td>NaN</td>\n",
              "      <td>151.250000</td>\n",
              "      <td>151.546494</td>\n",
              "      <td>148.899002</td>\n",
              "      <td>149.838501</td>\n",
              "      <td>149.838501</td>\n",
              "      <td>5.923990e+08</td>\n",
              "    </tr>\n",
              "  </tbody>\n",
              "</table>\n",
              "</div>\n",
              "    <div class=\"colab-df-buttons\">\n",
              "\n",
              "  <div class=\"colab-df-container\">\n",
              "    <button class=\"colab-df-convert\" onclick=\"convertToInteractive('df-2c8d021f-f9ea-4b44-9030-410494573e88')\"\n",
              "            title=\"Convert this dataframe to an interactive table.\"\n",
              "            style=\"display:none;\">\n",
              "\n",
              "  <svg xmlns=\"http://www.w3.org/2000/svg\" height=\"24px\" viewBox=\"0 -960 960 960\">\n",
              "    <path d=\"M120-120v-720h720v720H120Zm60-500h600v-160H180v160Zm220 220h160v-160H400v160Zm0 220h160v-160H400v160ZM180-400h160v-160H180v160Zm440 0h160v-160H620v160ZM180-180h160v-160H180v160Zm440 0h160v-160H620v160Z\"/>\n",
              "  </svg>\n",
              "    </button>\n",
              "\n",
              "  <style>\n",
              "    .colab-df-container {\n",
              "      display:flex;\n",
              "      gap: 12px;\n",
              "    }\n",
              "\n",
              "    .colab-df-convert {\n",
              "      background-color: #E8F0FE;\n",
              "      border: none;\n",
              "      border-radius: 50%;\n",
              "      cursor: pointer;\n",
              "      display: none;\n",
              "      fill: #1967D2;\n",
              "      height: 32px;\n",
              "      padding: 0 0 0 0;\n",
              "      width: 32px;\n",
              "    }\n",
              "\n",
              "    .colab-df-convert:hover {\n",
              "      background-color: #E2EBFA;\n",
              "      box-shadow: 0px 1px 2px rgba(60, 64, 67, 0.3), 0px 1px 3px 1px rgba(60, 64, 67, 0.15);\n",
              "      fill: #174EA6;\n",
              "    }\n",
              "\n",
              "    .colab-df-buttons div {\n",
              "      margin-bottom: 4px;\n",
              "    }\n",
              "\n",
              "    [theme=dark] .colab-df-convert {\n",
              "      background-color: #3B4455;\n",
              "      fill: #D2E3FC;\n",
              "    }\n",
              "\n",
              "    [theme=dark] .colab-df-convert:hover {\n",
              "      background-color: #434B5C;\n",
              "      box-shadow: 0px 1px 3px 1px rgba(0, 0, 0, 0.15);\n",
              "      filter: drop-shadow(0px 1px 2px rgba(0, 0, 0, 0.3));\n",
              "      fill: #FFFFFF;\n",
              "    }\n",
              "  </style>\n",
              "\n",
              "    <script>\n",
              "      const buttonEl =\n",
              "        document.querySelector('#df-2c8d021f-f9ea-4b44-9030-410494573e88 button.colab-df-convert');\n",
              "      buttonEl.style.display =\n",
              "        google.colab.kernel.accessAllowed ? 'block' : 'none';\n",
              "\n",
              "      async function convertToInteractive(key) {\n",
              "        const element = document.querySelector('#df-2c8d021f-f9ea-4b44-9030-410494573e88');\n",
              "        const dataTable =\n",
              "          await google.colab.kernel.invokeFunction('convertToInteractive',\n",
              "                                                    [key], {});\n",
              "        if (!dataTable) return;\n",
              "\n",
              "        const docLinkHtml = 'Like what you see? Visit the ' +\n",
              "          '<a target=\"_blank\" href=https://colab.research.google.com/notebooks/data_table.ipynb>data table notebook</a>'\n",
              "          + ' to learn more about interactive tables.';\n",
              "        element.innerHTML = '';\n",
              "        dataTable['output_type'] = 'display_data';\n",
              "        await google.colab.output.renderOutput(dataTable, element);\n",
              "        const docLink = document.createElement('div');\n",
              "        docLink.innerHTML = docLinkHtml;\n",
              "        element.appendChild(docLink);\n",
              "      }\n",
              "    </script>\n",
              "  </div>\n",
              "\n",
              "\n",
              "<div id=\"df-5ae6787d-64d4-468e-9dae-73a6766b9254\">\n",
              "  <button class=\"colab-df-quickchart\" onclick=\"quickchart('df-5ae6787d-64d4-468e-9dae-73a6766b9254')\"\n",
              "            title=\"Suggest charts\"\n",
              "            style=\"display:none;\">\n",
              "\n",
              "<svg xmlns=\"http://www.w3.org/2000/svg\" height=\"24px\"viewBox=\"0 0 24 24\"\n",
              "     width=\"24px\">\n",
              "    <g>\n",
              "        <path d=\"M19 3H5c-1.1 0-2 .9-2 2v14c0 1.1.9 2 2 2h14c1.1 0 2-.9 2-2V5c0-1.1-.9-2-2-2zM9 17H7v-7h2v7zm4 0h-2V7h2v10zm4 0h-2v-4h2v4z\"/>\n",
              "    </g>\n",
              "</svg>\n",
              "  </button>\n",
              "\n",
              "<style>\n",
              "  .colab-df-quickchart {\n",
              "      --bg-color: #E8F0FE;\n",
              "      --fill-color: #1967D2;\n",
              "      --hover-bg-color: #E2EBFA;\n",
              "      --hover-fill-color: #174EA6;\n",
              "      --disabled-fill-color: #AAA;\n",
              "      --disabled-bg-color: #DDD;\n",
              "  }\n",
              "\n",
              "  [theme=dark] .colab-df-quickchart {\n",
              "      --bg-color: #3B4455;\n",
              "      --fill-color: #D2E3FC;\n",
              "      --hover-bg-color: #434B5C;\n",
              "      --hover-fill-color: #FFFFFF;\n",
              "      --disabled-bg-color: #3B4455;\n",
              "      --disabled-fill-color: #666;\n",
              "  }\n",
              "\n",
              "  .colab-df-quickchart {\n",
              "    background-color: var(--bg-color);\n",
              "    border: none;\n",
              "    border-radius: 50%;\n",
              "    cursor: pointer;\n",
              "    display: none;\n",
              "    fill: var(--fill-color);\n",
              "    height: 32px;\n",
              "    padding: 0;\n",
              "    width: 32px;\n",
              "  }\n",
              "\n",
              "  .colab-df-quickchart:hover {\n",
              "    background-color: var(--hover-bg-color);\n",
              "    box-shadow: 0 1px 2px rgba(60, 64, 67, 0.3), 0 1px 3px 1px rgba(60, 64, 67, 0.15);\n",
              "    fill: var(--button-hover-fill-color);\n",
              "  }\n",
              "\n",
              "  .colab-df-quickchart-complete:disabled,\n",
              "  .colab-df-quickchart-complete:disabled:hover {\n",
              "    background-color: var(--disabled-bg-color);\n",
              "    fill: var(--disabled-fill-color);\n",
              "    box-shadow: none;\n",
              "  }\n",
              "\n",
              "  .colab-df-spinner {\n",
              "    border: 2px solid var(--fill-color);\n",
              "    border-color: transparent;\n",
              "    border-bottom-color: var(--fill-color);\n",
              "    animation:\n",
              "      spin 1s steps(1) infinite;\n",
              "  }\n",
              "\n",
              "  @keyframes spin {\n",
              "    0% {\n",
              "      border-color: transparent;\n",
              "      border-bottom-color: var(--fill-color);\n",
              "      border-left-color: var(--fill-color);\n",
              "    }\n",
              "    20% {\n",
              "      border-color: transparent;\n",
              "      border-left-color: var(--fill-color);\n",
              "      border-top-color: var(--fill-color);\n",
              "    }\n",
              "    30% {\n",
              "      border-color: transparent;\n",
              "      border-left-color: var(--fill-color);\n",
              "      border-top-color: var(--fill-color);\n",
              "      border-right-color: var(--fill-color);\n",
              "    }\n",
              "    40% {\n",
              "      border-color: transparent;\n",
              "      border-right-color: var(--fill-color);\n",
              "      border-top-color: var(--fill-color);\n",
              "    }\n",
              "    60% {\n",
              "      border-color: transparent;\n",
              "      border-right-color: var(--fill-color);\n",
              "    }\n",
              "    80% {\n",
              "      border-color: transparent;\n",
              "      border-right-color: var(--fill-color);\n",
              "      border-bottom-color: var(--fill-color);\n",
              "    }\n",
              "    90% {\n",
              "      border-color: transparent;\n",
              "      border-bottom-color: var(--fill-color);\n",
              "    }\n",
              "  }\n",
              "</style>\n",
              "\n",
              "  <script>\n",
              "    async function quickchart(key) {\n",
              "      const quickchartButtonEl =\n",
              "        document.querySelector('#' + key + ' button');\n",
              "      quickchartButtonEl.disabled = true;  // To prevent multiple clicks.\n",
              "      quickchartButtonEl.classList.add('colab-df-spinner');\n",
              "      try {\n",
              "        const charts = await google.colab.kernel.invokeFunction(\n",
              "            'suggestCharts', [key], {});\n",
              "      } catch (error) {\n",
              "        console.error('Error during call to suggestCharts:', error);\n",
              "      }\n",
              "      quickchartButtonEl.classList.remove('colab-df-spinner');\n",
              "      quickchartButtonEl.classList.add('colab-df-quickchart-complete');\n",
              "    }\n",
              "    (() => {\n",
              "      let quickchartButtonEl =\n",
              "        document.querySelector('#df-5ae6787d-64d4-468e-9dae-73a6766b9254 button');\n",
              "      quickchartButtonEl.style.display =\n",
              "        google.colab.kernel.accessAllowed ? 'block' : 'none';\n",
              "    })();\n",
              "  </script>\n",
              "</div>\n",
              "\n",
              "    </div>\n",
              "  </div>\n"
            ],
            "application/vnd.google.colaboratory.intrinsic+json": {
              "type": "dataframe",
              "summary": "{\n  \"name\": \"df\",\n  \"rows\": 11,\n  \"fields\": [\n    {\n      \"column\": \"Date\",\n      \"properties\": {\n        \"dtype\": \"date\",\n        \"min\": \"1970-01-01 00:00:00.000000001\",\n        \"max\": \"2010-01-04 00:00:00\",\n        \"num_unique_values\": 3,\n        \"samples\": [\n          \"3272\",\n          \"2010-01-04\",\n          \"1\"\n        ],\n        \"semantic_type\": \"\",\n        \"description\": \"\"\n      }\n    },\n    {\n      \"column\": \"Open\",\n      \"properties\": {\n        \"dtype\": \"number\",\n        \"std\": 1139.0690203912748,\n        \"min\": 10.968719,\n        \"max\": 3272.0,\n        \"num_unique_values\": 8,\n        \"samples\": [\n          49.16118724572127,\n          38.52775,\n          3272.0\n        ],\n        \"semantic_type\": \"\",\n        \"description\": \"\"\n      }\n    },\n    {\n      \"column\": \"High\",\n      \"properties\": {\n        \"dtype\": \"number\",\n        \"std\": 1138.9559462048692,\n        \"min\": 11.068068,\n        \"max\": 3272.0,\n        \"num_unique_values\": 8,\n        \"samples\": [\n          49.65030098135696,\n          38.9312495,\n          3272.0\n        ],\n        \"semantic_type\": \"\",\n        \"description\": \"\"\n      }\n    },\n    {\n      \"column\": \"Low\",\n      \"properties\": {\n        \"dtype\": \"number\",\n        \"std\": 1139.2657534214873,\n        \"min\": 10.851602,\n        \"max\": 3272.0,\n        \"num_unique_values\": 8,\n        \"samples\": [\n          48.6533159608802,\n          38.224500500000005,\n          3272.0\n        ],\n        \"semantic_type\": \"\",\n        \"description\": \"\"\n      }\n    },\n    {\n      \"column\": \"Close\",\n      \"properties\": {\n        \"dtype\": \"number\",\n        \"std\": 1139.1286642117595,\n        \"min\": 10.912663,\n        \"max\": 3272.0,\n        \"num_unique_values\": 8,\n        \"samples\": [\n          49.16089813600245,\n          38.563002,\n          3272.0\n        ],\n        \"semantic_type\": \"\",\n        \"description\": \"\"\n      }\n    },\n    {\n      \"column\": \"Adj Close\",\n      \"properties\": {\n        \"dtype\": \"number\",\n        \"std\": 1139.1286642117595,\n        \"min\": 10.912663,\n        \"max\": 3272.0,\n        \"num_unique_values\": 8,\n        \"samples\": [\n          49.16089813600245,\n          38.563002,\n          3272.0\n        ],\n        \"semantic_type\": \"\",\n        \"description\": \"\"\n      }\n    },\n    {\n      \"column\": \"Volume\",\n      \"properties\": {\n        \"dtype\": \"number\",\n        \"std\": 197584617.89756772,\n        \"min\": 3272.0,\n        \"max\": 592399008.0,\n        \"num_unique_values\": 8,\n        \"samples\": [\n          60175405.316625915,\n          41232000.0,\n          3272.0\n        ],\n        \"semantic_type\": \"\",\n        \"description\": \"\"\n      }\n    }\n  ]\n}"
            }
          },
          "metadata": {},
          "execution_count": 61
        }
      ]
    },
    {
      "cell_type": "markdown",
      "source": [
        "checking null values"
      ],
      "metadata": {
        "id": "Bmf5FDd-wYtF"
      }
    },
    {
      "cell_type": "code",
      "source": [
        "df.isnull().sum()"
      ],
      "metadata": {
        "colab": {
          "base_uri": "https://localhost:8080/"
        },
        "id": "JJo8mFUlwLMO",
        "outputId": "3c707964-1692-4af2-8500-e9875275d360"
      },
      "execution_count": 62,
      "outputs": [
        {
          "output_type": "execute_result",
          "data": {
            "text/plain": [
              "Date         0\n",
              "Open         0\n",
              "High         0\n",
              "Low          0\n",
              "Close        0\n",
              "Adj Close    0\n",
              "Volume       0\n",
              "dtype: int64"
            ]
          },
          "metadata": {},
          "execution_count": 62
        }
      ]
    },
    {
      "cell_type": "markdown",
      "source": [
        "by observing above output we can say there is no null values in our dataset,so there is no need of data cleaning"
      ],
      "metadata": {
        "id": "qzOc-HnXwq3Y"
      }
    },
    {
      "cell_type": "markdown",
      "source": [
        "converting Date column in datetime format"
      ],
      "metadata": {
        "id": "7EoDB1REw90r"
      }
    },
    {
      "cell_type": "code",
      "source": [
        "df['Date'] = df['Date'].apply(pd.to_datetime) #convert into datetime format"
      ],
      "metadata": {
        "id": "LUVcSNAfl1HX"
      },
      "execution_count": 63,
      "outputs": []
    },
    {
      "cell_type": "code",
      "source": [
        "df.info()"
      ],
      "metadata": {
        "colab": {
          "base_uri": "https://localhost:8080/"
        },
        "id": "cGqVuD0fnKdF",
        "outputId": "f938abf6-4b01-498f-a095-0bd27c0ea881"
      },
      "execution_count": 64,
      "outputs": [
        {
          "output_type": "stream",
          "name": "stdout",
          "text": [
            "<class 'pandas.core.frame.DataFrame'>\n",
            "RangeIndex: 3272 entries, 0 to 3271\n",
            "Data columns (total 7 columns):\n",
            " #   Column     Non-Null Count  Dtype         \n",
            "---  ------     --------------  -----         \n",
            " 0   Date       3272 non-null   datetime64[ns]\n",
            " 1   Open       3272 non-null   float64       \n",
            " 2   High       3272 non-null   float64       \n",
            " 3   Low        3272 non-null   float64       \n",
            " 4   Close      3272 non-null   float64       \n",
            " 5   Adj Close  3272 non-null   float64       \n",
            " 6   Volume     3272 non-null   int64         \n",
            "dtypes: datetime64[ns](1), float64(5), int64(1)\n",
            "memory usage: 179.1 KB\n"
          ]
        }
      ]
    },
    {
      "cell_type": "markdown",
      "source": [
        "by observing above we can say Date column is converted into datetime format"
      ],
      "metadata": {
        "id": "Vx7kUEuCrb68"
      }
    },
    {
      "cell_type": "markdown",
      "source": [
        "# Stationary Testing"
      ],
      "metadata": {
        "id": "eyktdt2Wv4um"
      }
    },
    {
      "cell_type": "markdown",
      "source": [
        "Checking the data is stationary or not by visualization"
      ],
      "metadata": {
        "id": "TODzc85Ipj9q"
      }
    },
    {
      "cell_type": "code",
      "source": [
        "sns.lineplot(x=df['Date'],y=df['Close'])\n",
        "plt.title('Google Stock Price Over Time')"
      ],
      "metadata": {
        "colab": {
          "base_uri": "https://localhost:8080/",
          "height": 489
        },
        "id": "OHSozpSJnaJB",
        "outputId": "d3503e74-b9e2-4f6a-ed0d-339f5c67b12c"
      },
      "execution_count": 65,
      "outputs": [
        {
          "output_type": "execute_result",
          "data": {
            "text/plain": [
              "Text(0.5, 1.0, 'Google Stock Price Over Time')"
            ]
          },
          "metadata": {},
          "execution_count": 65
        },
        {
          "output_type": "display_data",
          "data": {
            "text/plain": [
              "<Figure size 640x480 with 1 Axes>"
            ],
            "image/png": "[encoded data removed]"
          },
          "metadata": {}
        }
      ]
    },
    {
      "cell_type": "markdown",
      "source": [
        "Checking the data is stationary or not by using Dicky Fuller test"
      ],
      "metadata": {
        "id": "RJSxfvNPqKRU"
      }
    },
    {
      "cell_type": "code",
      "source": [
        "# test_result = adfuller(df['Close'])\n",
        "# test_op= pd.Series(test_result[0:4], index=['Test Statistic','p-value','#Lags Used','Number of Observations Used'])\n",
        "# print(test_op)\n",
        "# if test_result[1] <= 0.05:\n",
        "#         print(\"strong evidence against the null hypothesis(Ho), reject the null hypothesis. Data has no unit root and is stationary\")\n",
        "# else:\n",
        "#     print(\"weak evidence against null hypothesis, time series has a unit root, indicating it is non-stationary \")\n",
        "def adfuller_test(close):\n",
        "    result=adfuller(close)\n",
        "    labels = ['ADF Test Statistic','p-value','#Lags Used','Number of Observations Used']\n",
        "    for value,label in zip(result,labels):\n",
        "        print(label+' : '+str(value) )\n",
        "    if result[1] <= 0.05:\n",
        "        print(\"strong evidence against the null hypothesis(Ho), reject the null hypothesis. Data has no unit root and is stationary\")\n",
        "    else:\n",
        "        print(\"weak evidence against null hypothesis, time series has a unit root, indicating it is non-stationary \")\n",
        "adfuller_test(df['Close'])\n"
      ],
      "metadata": {
        "colab": {
          "base_uri": "https://localhost:8080/"
        },
        "id": "Uvu7zlDwp5bZ",
        "outputId": "feff4c24-7f4d-40b1-a5c9-545f6353c07a"
      },
      "execution_count": 66,
      "outputs": [
        {
          "output_type": "stream",
          "name": "stdout",
          "text": [
            "ADF Test Statistic : -0.630788131705103\n",
            "p-value : 0.8638723239459678\n",
            "#Lags Used : 22\n",
            "Number of Observations Used : 3249\n",
            "weak evidence against null hypothesis, time series has a unit root, indicating it is non-stationary \n"
          ]
        }
      ]
    },
    {
      "cell_type": "markdown",
      "source": [
        "After testing and observing above outputs we can say that the data is non-stationary because the value of p is greater than 0.05"
      ],
      "metadata": {
        "id": "HhVEtJylrG4c"
      }
    },
    {
      "cell_type": "markdown",
      "source": [
        "# Differencing"
      ],
      "metadata": {
        "id": "NwKXS0M1v0rS"
      }
    },
    {
      "cell_type": "markdown",
      "source": [
        "To make the non-stationary data as stationary we need to do differencing"
      ],
      "metadata": {
        "id": "l1KBGO_If6b7"
      }
    },
    {
      "cell_type": "code",
      "source": [
        "df[\"Close First Difference\"]=df[\"Close\"]-df[\"Close\"].shift(1) # Differencing\n",
        "# df[\"Close First Difference\"]"
      ],
      "metadata": {
        "id": "L6G_iFur0GNl",
        "colab": {
          "base_uri": "https://localhost:8080/"
        },
        "outputId": "109b7a5a-2dcd-41d1-ab1a-5c53a0c70c92"
      },
      "execution_count": 84,
      "outputs": [
        {
          "output_type": "execute_result",
          "data": {
            "text/plain": [
              "0            NaN\n",
              "1      -0.069069\n",
              "2      -0.393643\n",
              "3      -0.354355\n",
              "4       0.198199\n",
              "          ...   \n",
              "3267    1.470001\n",
              "3268   -1.840004\n",
              "3269   -1.370002\n",
              "3270    2.430000\n",
              "3271   -0.219994\n",
              "Name: Close First Difference, Length: 3272, dtype: float64"
            ]
          },
          "metadata": {},
          "execution_count": 84
        }
      ]
    },
    {
      "cell_type": "code",
      "source": [
        "df[\"Close First Difference\"].plot() #visuallization of differencing"
      ],
      "metadata": {
        "colab": {
          "base_uri": "https://localhost:8080/",
          "height": 447
        },
        "id": "tZJbEoTqams6",
        "outputId": "b029ad0e-72ce-47e8-82de-e459b62b3773"
      },
      "execution_count": 68,
      "outputs": [
        {
          "output_type": "execute_result",
          "data": {
            "text/plain": [
              "<Axes: >"
            ]
          },
          "metadata": {},
          "execution_count": 68
        },
        {
          "output_type": "display_data",
          "data": {
            "text/plain": [
              "<Figure size 640x480 with 1 Axes>"
            ],
            "image/png": "[encoded data removed]"
          },
          "metadata": {}
        }
      ]
    },
    {
      "cell_type": "markdown",
      "source": [
        "Seasonal differencing"
      ],
      "metadata": {
        "id": "Y6thJqJTa-eu"
      }
    },
    {
      "cell_type": "code",
      "source": [
        "df[\"Close Seasonal First Difference\"]=df[\"Close\"]-df[\"Close\"].shift(12)  #Seasonal differencing"
      ],
      "metadata": {
        "id": "mgwrVinta-JT"
      },
      "execution_count": 69,
      "outputs": []
    },
    {
      "cell_type": "code",
      "source": [
        "df[\"Close First Difference\"].plot() #visuallization of differencing"
      ],
      "metadata": {
        "colab": {
          "base_uri": "https://localhost:8080/",
          "height": 447
        },
        "id": "Oaf8HkFJbFg-",
        "outputId": "346efef3-bb79-4c85-9d02-019e4fe34911"
      },
      "execution_count": 70,
      "outputs": [
        {
          "output_type": "execute_result",
          "data": {
            "text/plain": [
              "<Axes: >"
            ]
          },
          "metadata": {},
          "execution_count": 70
        },
        {
          "output_type": "display_data",
          "data": {
            "text/plain": [
              "<Figure size 640x480 with 1 Axes>"
            ],
            "image/png": "[encoded data removed]"
          },
          "metadata": {}
        }
      ]
    },
    {
      "cell_type": "markdown",
      "source": [
        "After doing differencing we need to check the stationarity again by doing dickey fuller test"
      ],
      "metadata": {
        "id": "FEv5WHesffst"
      }
    },
    {
      "cell_type": "code",
      "source": [
        "#again test dickey fuller test\n",
        "adfuller_test(df[\"Close Seasonal First Difference\"].dropna())"
      ],
      "metadata": {
        "colab": {
          "base_uri": "https://localhost:8080/"
        },
        "id": "iCranl7rc9fm",
        "outputId": "5912fdbf-8ab2-4d4c-f0c2-e6a9b98c1386"
      },
      "execution_count": 71,
      "outputs": [
        {
          "output_type": "stream",
          "name": "stdout",
          "text": [
            "ADF Test Statistic : -8.936451025502976\n",
            "p-value : 9.505606921190188e-15\n",
            "#Lags Used : 29\n",
            "Number of Observations Used : 3230\n",
            "strong evidence against the null hypothesis(Ho), reject the null hypothesis. Data has no unit root and is stationary\n"
          ]
        }
      ]
    },
    {
      "cell_type": "markdown",
      "source": [
        "From observing above output we can say that the value of p is reduced"
      ],
      "metadata": {
        "id": "Icv61kJdgQxN"
      }
    },
    {
      "cell_type": "markdown",
      "source": [
        "## Finding p and q values"
      ],
      "metadata": {
        "id": "8hhaoCZPgqZd"
      }
    },
    {
      "cell_type": "markdown",
      "source": [
        "Finding p and q values by plotting Autocorrelation and Partial autocorrelation graphs"
      ],
      "metadata": {
        "id": "nU2KCJbYg9gS"
      }
    },
    {
      "cell_type": "code",
      "source": [
        "# fig=plt.figure(figsize=(12,8))\n",
        "# ax1=fig.add_subplot(211)\n",
        "# fig=plot_acf(df['Close Seasonal First Difference'].iloc[13:],lags=40,ax=ax1)\n",
        "# ax2=fig.add_subplot(212)\n",
        "# fig=plot_pacf(df['Close Seasonal First Difference'].iloc[13:],lags=40,ax=ax2)"
      ],
      "metadata": {
        "id": "G8sJSuA3fO-f"
      },
      "execution_count": 72,
      "outputs": []
    },
    {
      "cell_type": "markdown",
      "source": [
        "Plotting Autocorrelation graph to find p value"
      ],
      "metadata": {
        "id": "W1uTMuNChmb9"
      }
    },
    {
      "cell_type": "code",
      "source": [
        "\n",
        "# for finding value of p\n",
        "x_acf=pd.DataFrame(df['Close'])\n",
        "plot_acf(x_acf)\n",
        "plt.show()\n"
      ],
      "metadata": {
        "colab": {
          "base_uri": "https://localhost:8080/",
          "height": 452
        },
        "id": "JURkc1_BcCLC",
        "outputId": "54971b21-9056-4d32-e5cf-db4f5afa77f7"
      },
      "execution_count": 73,
      "outputs": [
        {
          "output_type": "display_data",
          "data": {
            "text/plain": [
              "<Figure size 640x480 with 1 Axes>"
            ],
            "image/png": "[encoded data removed]"
          },
          "metadata": {}
        }
      ]
    },
    {
      "cell_type": "markdown",
      "source": [
        "Plotting Partial correlation graph to find q value"
      ],
      "metadata": {
        "id": "Ad_gf2fKhwh7"
      }
    },
    {
      "cell_type": "code",
      "source": [
        "#finding value of Q\n",
        "x_pacf=pd.DataFrame(df['Close'])\n",
        "plot_pacf(x_pacf)\n",
        "plt.show()"
      ],
      "metadata": {
        "colab": {
          "base_uri": "https://localhost:8080/",
          "height": 452
        },
        "id": "rC2I5IQqcZ_N",
        "outputId": "b9b4f8a0-4813-4915-9893-a24d6931b6e6"
      },
      "execution_count": 74,
      "outputs": [
        {
          "output_type": "display_data",
          "data": {
            "text/plain": [
              "<Figure size 640x480 with 1 Axes>"
            ],
            "image/png": "[encoded data removed]"
          },
          "metadata": {}
        }
      ]
    },
    {
      "cell_type": "markdown",
      "source": [
        "By observing above plots we can say that the value of p=1 and q=2"
      ],
      "metadata": {
        "id": "wQpM-PKfhkQL"
      }
    },
    {
      "cell_type": "markdown",
      "source": [
        "# Modelling"
      ],
      "metadata": {
        "id": "f53C3YYljhX5"
      }
    },
    {
      "cell_type": "markdown",
      "source": [
        "Fitting Autodarima before fitting ARIMA model"
      ],
      "metadata": {
        "id": "liuN-u4akLpJ"
      }
    },
    {
      "cell_type": "code",
      "source": [
        "# !pip install pmdarima\n",
        "# from pmdarima.arima import auto_arima\n",
        "model=auto_arima(df['Close'],start_p=1,start_q=1,test='adf',max_p=3,max_q=3,m=12,start_P=0,seasonal=True,d=1,D=1,trace=True,error_action='ignore',suppress_warnings=True)\n",
        "model.fit\n"
      ],
      "metadata": {
        "id": "T-pzh-r9iFwj",
        "colab": {
          "base_uri": "https://localhost:8080/",
          "height": 500
        },
        "outputId": "26ce1f9f-05eb-482f-e517-9895c38ccace"
      },
      "execution_count": 75,
      "outputs": [
        {
          "output_type": "stream",
          "name": "stdout",
          "text": [
            "Performing stepwise search to minimize aic\n",
            " ARIMA(1,1,1)(0,1,1)[12]             : AIC=inf, Time=9.45 sec\n",
            " ARIMA(0,1,0)(0,1,0)[12]             : AIC=12346.854, Time=0.22 sec\n",
            " ARIMA(1,1,0)(1,1,0)[12]             : AIC=11339.102, Time=1.69 sec\n",
            " ARIMA(0,1,1)(0,1,1)[12]             : AIC=inf, Time=7.99 sec\n",
            " ARIMA(1,1,0)(0,1,0)[12]             : AIC=12339.146, Time=0.22 sec\n",
            " ARIMA(1,1,0)(2,1,0)[12]             : AIC=10924.493, Time=2.32 sec\n",
            " ARIMA(1,1,0)(2,1,1)[12]             : AIC=inf, Time=26.85 sec\n",
            " ARIMA(1,1,0)(1,1,1)[12]             : AIC=inf, Time=11.65 sec\n",
            " ARIMA(0,1,0)(2,1,0)[12]             : AIC=10942.424, Time=1.77 sec\n",
            " ARIMA(2,1,0)(2,1,0)[12]             : AIC=10926.363, Time=3.19 sec\n",
            " ARIMA(1,1,1)(2,1,0)[12]             : AIC=10926.079, Time=7.27 sec\n",
            " ARIMA(0,1,1)(2,1,0)[12]             : AIC=10924.757, Time=2.48 sec\n",
            " ARIMA(2,1,1)(2,1,0)[12]             : AIC=10927.851, Time=14.83 sec\n",
            " ARIMA(1,1,0)(2,1,0)[12] intercept   : AIC=10926.490, Time=11.66 sec\n",
            "\n",
            "Best model:  ARIMA(1,1,0)(2,1,0)[12]          \n",
            "Total fit time: 101.604 seconds\n"
          ]
        },
        {
          "output_type": "execute_result",
          "data": {
            "text/plain": [
              "<bound method ARIMA.fit of ARIMA(order=(1, 1, 0), scoring_args={}, seasonal_order=(2, 1, 0, 12),\n",
              "      suppress_warnings=True, with_intercept=False)>"
            ],
            "text/html": [
              "<div style=\"max-width:800px; border: 1px solid var(--colab-border-color);\"><style>\n",
              "      pre.function-repr-contents {\n",
              "        overflow-x: auto;\n",
              "        padding: 8px 12px;\n",
              "        max-height: 500px;\n",
              "      }\n",
              "\n",
              "      pre.function-repr-contents.function-repr-contents-collapsed {\n",
              "        cursor: pointer;\n",
              "        max-height: 100px;\n",
              "      }\n",
              "    </style>\n",
              "    <pre style=\"white-space: initial; background:\n",
              "         var(--colab-secondary-surface-color); padding: 8px 12px;\n",
              "         border-bottom: 1px solid var(--colab-border-color);\"><b>pmdarima.arima.arima.ARIMA.fit</b><br/>def fit(y, X=None, **fit_args)</pre><pre class=\"function-repr-contents function-repr-contents-collapsed\" style=\"\"><a class=\"filepath\" style=\"display:none\" href=\"#\">/usr/local/lib/python3.10/dist-packages/pmdarima/arima/arima.py</a>Fit an ARIMA to a vector, ``y``, of observations with an\n",
              "optional matrix of ``X`` variables.\n",
              "\n",
              "Parameters\n",
              "----------\n",
              "y : array-like or iterable, shape=(n_samples,)\n",
              "    The time-series to which to fit the ``ARIMA`` estimator. This may\n",
              "    either be a Pandas ``Series`` object (statsmodels can internally\n",
              "    use the dates in the index), or a numpy array. This should be a\n",
              "    one-dimensional array of floats, and should not contain any\n",
              "    ``np.nan`` or ``np.inf`` values.\n",
              "\n",
              "X : array-like, shape=[n_obs, n_vars], optional (default=None)\n",
              "    An optional 2-d array of exogenous variables. If provided, these\n",
              "    variables are used as additional features in the regression\n",
              "    operation. This should not include a constant or trend. Note that\n",
              "    if an ``ARIMA`` is fit on exogenous features, it must be provided\n",
              "    exogenous features for making predictions.\n",
              "\n",
              "**fit_args : dict or kwargs\n",
              "    Any keyword arguments to pass to the statsmodels ARIMA fit.</pre>\n",
              "      <script>\n",
              "      if (google.colab.kernel.accessAllowed && google.colab.files && google.colab.files.view) {\n",
              "        for (const element of document.querySelectorAll('.filepath')) {\n",
              "          element.style.display = 'block'\n",
              "          element.onclick = (event) => {\n",
              "            event.preventDefault();\n",
              "            event.stopPropagation();\n",
              "            google.colab.files.view(element.textContent, 543);\n",
              "          };\n",
              "        }\n",
              "      }\n",
              "      for (const element of document.querySelectorAll('.function-repr-contents')) {\n",
              "        element.onclick = (event) => {\n",
              "          event.preventDefault();\n",
              "          event.stopPropagation();\n",
              "          element.classList.toggle('function-repr-contents-collapsed');\n",
              "        };\n",
              "      }\n",
              "      </script>\n",
              "      </div>"
            ]
          },
          "metadata": {},
          "execution_count": 75
        }
      ]
    },
    {
      "cell_type": "markdown",
      "source": [
        "It automatically determines the optimal parameters for an ARIMA model, such as the order of differencing, autoregressive (AR) terms, and moving average (MA) terms"
      ],
      "metadata": {
        "id": "fDg7ESMTjyQQ"
      }
    },
    {
      "cell_type": "code",
      "source": [
        "model.summary()     #summary of model"
      ],
      "metadata": {
        "colab": {
          "base_uri": "https://localhost:8080/",
          "height": 439
        },
        "id": "C5vrSXUzjY8q",
        "outputId": "8b4250f3-ca32-4cab-fa95-4f2c0e50b95a"
      },
      "execution_count": 76,
      "outputs": [
        {
          "output_type": "execute_result",
          "data": {
            "text/plain": [
              "<class 'statsmodels.iolib.summary.Summary'>\n",
              "\"\"\"\n",
              "                                     SARIMAX Results                                      \n",
              "==========================================================================================\n",
              "Dep. Variable:                                  y   No. Observations:                 3272\n",
              "Model:             SARIMAX(1, 1, 0)x(2, 1, 0, 12)   Log Likelihood               -5458.246\n",
              "Date:                            Tue, 02 Jul 2024   AIC                          10924.493\n",
              "Time:                                    09:36:05   BIC                          10948.849\n",
              "Sample:                                         0   HQIC                         10933.217\n",
              "                                           - 3272                                         \n",
              "Covariance Type:                              opg                                         \n",
              "==============================================================================\n",
              "                 coef    std err          z      P>|z|      [0.025      0.975]\n",
              "------------------------------------------------------------------------------\n",
              "ar.L1         -0.0782      0.009     -9.175      0.000      -0.095      -0.061\n",
              "ar.S.L12      -0.6978      0.008    -88.904      0.000      -0.713      -0.682\n",
              "ar.S.L24      -0.3503      0.008    -41.808      0.000      -0.367      -0.334\n",
              "sigma2         1.6647      0.017    100.236      0.000       1.632       1.697\n",
              "===================================================================================\n",
              "Ljung-Box (L1) (Q):                   0.00   Jarque-Bera (JB):             15028.38\n",
              "Prob(Q):                              0.98   Prob(JB):                         0.00\n",
              "Heteroskedasticity (H):              43.75   Skew:                             0.21\n",
              "Prob(H) (two-sided):                  0.00   Kurtosis:                        13.51\n",
              "===================================================================================\n",
              "\n",
              "Warnings:\n",
              "[1] Covariance matrix calculated using the outer product of gradients (complex-step).\n",
              "\"\"\""
            ],
            "text/html": [
              "<table class=\"simpletable\">\n",
              "<caption>SARIMAX Results</caption>\n",
              "<tr>\n",
              "  <th>Dep. Variable:</th>                  <td>y</td>               <th>  No. Observations:  </th>   <td>3272</td>   \n",
              "</tr>\n",
              "<tr>\n",
              "  <th>Model:</th>           <td>SARIMAX(1, 1, 0)x(2, 1, 0, 12)</td> <th>  Log Likelihood     </th> <td>-5458.246</td>\n",
              "</tr>\n",
              "<tr>\n",
              "  <th>Date:</th>                   <td>Tue, 02 Jul 2024</td>        <th>  AIC                </th> <td>10924.493</td>\n",
              "</tr>\n",
              "<tr>\n",
              "  <th>Time:</th>                       <td>09:36:05</td>            <th>  BIC                </th> <td>10948.849</td>\n",
              "</tr>\n",
              "<tr>\n",
              "  <th>Sample:</th>                         <td>0</td>               <th>  HQIC               </th> <td>10933.217</td>\n",
              "</tr>\n",
              "<tr>\n",
              "  <th></th>                             <td> - 3272</td>            <th>                     </th>     <td> </td>    \n",
              "</tr>\n",
              "<tr>\n",
              "  <th>Covariance Type:</th>               <td>opg</td>              <th>                     </th>     <td> </td>    \n",
              "</tr>\n",
              "</table>\n",
              "<table class=\"simpletable\">\n",
              "<tr>\n",
              "      <td></td>        <th>coef</th>     <th>std err</th>      <th>z</th>      <th>P>|z|</th>  <th>[0.025</th>    <th>0.975]</th>  \n",
              "</tr>\n",
              "<tr>\n",
              "  <th>ar.L1</th>    <td>   -0.0782</td> <td>    0.009</td> <td>   -9.175</td> <td> 0.000</td> <td>   -0.095</td> <td>   -0.061</td>\n",
              "</tr>\n",
              "<tr>\n",
              "  <th>ar.S.L12</th> <td>   -0.6978</td> <td>    0.008</td> <td>  -88.904</td> <td> 0.000</td> <td>   -0.713</td> <td>   -0.682</td>\n",
              "</tr>\n",
              "<tr>\n",
              "  <th>ar.S.L24</th> <td>   -0.3503</td> <td>    0.008</td> <td>  -41.808</td> <td> 0.000</td> <td>   -0.367</td> <td>   -0.334</td>\n",
              "</tr>\n",
              "<tr>\n",
              "  <th>sigma2</th>   <td>    1.6647</td> <td>    0.017</td> <td>  100.236</td> <td> 0.000</td> <td>    1.632</td> <td>    1.697</td>\n",
              "</tr>\n",
              "</table>\n",
              "<table class=\"simpletable\">\n",
              "<tr>\n",
              "  <th>Ljung-Box (L1) (Q):</th>     <td>0.00</td>  <th>  Jarque-Bera (JB):  </th> <td>15028.38</td>\n",
              "</tr>\n",
              "<tr>\n",
              "  <th>Prob(Q):</th>                <td>0.98</td>  <th>  Prob(JB):          </th>   <td>0.00</td>  \n",
              "</tr>\n",
              "<tr>\n",
              "  <th>Heteroskedasticity (H):</th> <td>43.75</td> <th>  Skew:              </th>   <td>0.21</td>  \n",
              "</tr>\n",
              "<tr>\n",
              "  <th>Prob(H) (two-sided):</th>    <td>0.00</td>  <th>  Kurtosis:          </th>   <td>13.51</td> \n",
              "</tr>\n",
              "</table><br/><br/>Warnings:<br/>[1] Covariance matrix calculated using the outer product of gradients (complex-step)."
            ],
            "text/latex": "\\begin{center}\n\\begin{tabular}{lclc}\n\\toprule\n\\textbf{Dep. Variable:}          &               y                & \\textbf{  No. Observations:  } &    3272     \\\\\n\\textbf{Model:}                  & SARIMAX(1, 1, 0)x(2, 1, 0, 12) & \\textbf{  Log Likelihood     } & -5458.246   \\\\\n\\textbf{Date:}                   &        Tue, 02 Jul 2024        & \\textbf{  AIC                } & 10924.493   \\\\\n\\textbf{Time:}                   &            09:36:05            & \\textbf{  BIC                } & 10948.849   \\\\\n\\textbf{Sample:}                 &               0                & \\textbf{  HQIC               } & 10933.217   \\\\\n\\textbf{}                        &             - 3272             & \\textbf{                     } &             \\\\\n\\textbf{Covariance Type:}        &              opg               & \\textbf{                     } &             \\\\\n\\bottomrule\n\\end{tabular}\n\\begin{tabular}{lcccccc}\n                  & \\textbf{coef} & \\textbf{std err} & \\textbf{z} & \\textbf{P$> |$z$|$} & \\textbf{[0.025} & \\textbf{0.975]}  \\\\\n\\midrule\n\\textbf{ar.L1}    &      -0.0782  &        0.009     &    -9.175  &         0.000        &       -0.095    &       -0.061     \\\\\n\\textbf{ar.S.L12} &      -0.6978  &        0.008     &   -88.904  &         0.000        &       -0.713    &       -0.682     \\\\\n\\textbf{ar.S.L24} &      -0.3503  &        0.008     &   -41.808  &         0.000        &       -0.367    &       -0.334     \\\\\n\\textbf{sigma2}   &       1.6647  &        0.017     &   100.236  &         0.000        &        1.632    &        1.697     \\\\\n\\bottomrule\n\\end{tabular}\n\\begin{tabular}{lclc}\n\\textbf{Ljung-Box (L1) (Q):}     &  0.00 & \\textbf{  Jarque-Bera (JB):  } & 15028.38  \\\\\n\\textbf{Prob(Q):}                &  0.98 & \\textbf{  Prob(JB):          } &   0.00    \\\\\n\\textbf{Heteroskedasticity (H):} & 43.75 & \\textbf{  Skew:              } &   0.21    \\\\\n\\textbf{Prob(H) (two-sided):}    &  0.00 & \\textbf{  Kurtosis:          } &  13.51    \\\\\n\\bottomrule\n\\end{tabular}\n%\\caption{SARIMAX Results}\n\\end{center}\n\nWarnings: \\newline\n [1] Covariance matrix calculated using the outer product of gradients (complex-step)."
          },
          "metadata": {},
          "execution_count": 76
        }
      ]
    },
    {
      "cell_type": "markdown",
      "source": [
        "Fitting ARIMA model"
      ],
      "metadata": {
        "id": "zEZ1IHe0kT7W"
      }
    },
    {
      "cell_type": "markdown",
      "source": [
        "# ARIMA MODEL"
      ],
      "metadata": {
        "id": "Q__sscTIl2Io"
      }
    },
    {
      "cell_type": "code",
      "source": [
        "# stasts model and arima\n",
        "from statsmodels.tsa.arima.model import ARIMA\n",
        "p,d,q=1,1,2                             #defining p,d,q values\n",
        "\n",
        "model=ARIMA(df['Close'],order=(p,d,q))  #Fitting ARIMA\n",
        "model=model.fit()\n",
        "model.summary()                         #Model summary"
      ],
      "metadata": {
        "colab": {
          "base_uri": "https://localhost:8080/",
          "height": 439
        },
        "id": "HDlVHFpukBzA",
        "outputId": "1c9c9c1a-385d-4b3b-deb5-f0ebb8ad9d2c"
      },
      "execution_count": 77,
      "outputs": [
        {
          "output_type": "execute_result",
          "data": {
            "text/plain": [
              "<class 'statsmodels.iolib.summary.Summary'>\n",
              "\"\"\"\n",
              "                               SARIMAX Results                                \n",
              "==============================================================================\n",
              "Dep. Variable:                  Close   No. Observations:                 3272\n",
              "Model:                 ARIMA(1, 1, 2)   Log Likelihood               -5028.079\n",
              "Date:                Tue, 02 Jul 2024   AIC                          10064.158\n",
              "Time:                        09:36:06   BIC                          10088.529\n",
              "Sample:                             0   HQIC                         10072.886\n",
              "                               - 3272                                         \n",
              "Covariance Type:                  opg                                         \n",
              "==============================================================================\n",
              "                 coef    std err          z      P>|z|      [0.025      0.975]\n",
              "------------------------------------------------------------------------------\n",
              "ar.L1          0.7834      0.072     10.894      0.000       0.642       0.924\n",
              "ma.L1         -0.8442      0.074    -11.442      0.000      -0.989      -0.700\n",
              "ma.L2          0.0209      0.013      1.605      0.108      -0.005       0.046\n",
              "sigma2         1.2667      0.012    107.835      0.000       1.244       1.290\n",
              "===================================================================================\n",
              "Ljung-Box (L1) (Q):                   0.00   Jarque-Bera (JB):             21077.78\n",
              "Prob(Q):                              0.95   Prob(JB):                         0.00\n",
              "Heteroskedasticity (H):              44.06   Skew:                            -0.10\n",
              "Prob(H) (two-sided):                  0.00   Kurtosis:                        15.43\n",
              "===================================================================================\n",
              "\n",
              "Warnings:\n",
              "[1] Covariance matrix calculated using the outer product of gradients (complex-step).\n",
              "\"\"\""
            ],
            "text/html": [
              "<table class=\"simpletable\">\n",
              "<caption>SARIMAX Results</caption>\n",
              "<tr>\n",
              "  <th>Dep. Variable:</th>         <td>Close</td>      <th>  No. Observations:  </th>   <td>3272</td>   \n",
              "</tr>\n",
              "<tr>\n",
              "  <th>Model:</th>            <td>ARIMA(1, 1, 2)</td>  <th>  Log Likelihood     </th> <td>-5028.079</td>\n",
              "</tr>\n",
              "<tr>\n",
              "  <th>Date:</th>            <td>Tue, 02 Jul 2024</td> <th>  AIC                </th> <td>10064.158</td>\n",
              "</tr>\n",
              "<tr>\n",
              "  <th>Time:</th>                <td>09:36:06</td>     <th>  BIC                </th> <td>10088.529</td>\n",
              "</tr>\n",
              "<tr>\n",
              "  <th>Sample:</th>                  <td>0</td>        <th>  HQIC               </th> <td>10072.886</td>\n",
              "</tr>\n",
              "<tr>\n",
              "  <th></th>                      <td> - 3272</td>     <th>                     </th>     <td> </td>    \n",
              "</tr>\n",
              "<tr>\n",
              "  <th>Covariance Type:</th>        <td>opg</td>       <th>                     </th>     <td> </td>    \n",
              "</tr>\n",
              "</table>\n",
              "<table class=\"simpletable\">\n",
              "<tr>\n",
              "     <td></td>       <th>coef</th>     <th>std err</th>      <th>z</th>      <th>P>|z|</th>  <th>[0.025</th>    <th>0.975]</th>  \n",
              "</tr>\n",
              "<tr>\n",
              "  <th>ar.L1</th>  <td>    0.7834</td> <td>    0.072</td> <td>   10.894</td> <td> 0.000</td> <td>    0.642</td> <td>    0.924</td>\n",
              "</tr>\n",
              "<tr>\n",
              "  <th>ma.L1</th>  <td>   -0.8442</td> <td>    0.074</td> <td>  -11.442</td> <td> 0.000</td> <td>   -0.989</td> <td>   -0.700</td>\n",
              "</tr>\n",
              "<tr>\n",
              "  <th>ma.L2</th>  <td>    0.0209</td> <td>    0.013</td> <td>    1.605</td> <td> 0.108</td> <td>   -0.005</td> <td>    0.046</td>\n",
              "</tr>\n",
              "<tr>\n",
              "  <th>sigma2</th> <td>    1.2667</td> <td>    0.012</td> <td>  107.835</td> <td> 0.000</td> <td>    1.244</td> <td>    1.290</td>\n",
              "</tr>\n",
              "</table>\n",
              "<table class=\"simpletable\">\n",
              "<tr>\n",
              "  <th>Ljung-Box (L1) (Q):</th>     <td>0.00</td>  <th>  Jarque-Bera (JB):  </th> <td>21077.78</td>\n",
              "</tr>\n",
              "<tr>\n",
              "  <th>Prob(Q):</th>                <td>0.95</td>  <th>  Prob(JB):          </th>   <td>0.00</td>  \n",
              "</tr>\n",
              "<tr>\n",
              "  <th>Heteroskedasticity (H):</th> <td>44.06</td> <th>  Skew:              </th>   <td>-0.10</td> \n",
              "</tr>\n",
              "<tr>\n",
              "  <th>Prob(H) (two-sided):</th>    <td>0.00</td>  <th>  Kurtosis:          </th>   <td>15.43</td> \n",
              "</tr>\n",
              "</table><br/><br/>Warnings:<br/>[1] Covariance matrix calculated using the outer product of gradients (complex-step)."
            ],
            "text/latex": "\\begin{center}\n\\begin{tabular}{lclc}\n\\toprule\n\\textbf{Dep. Variable:}          &      Close       & \\textbf{  No. Observations:  } &    3272     \\\\\n\\textbf{Model:}                  &  ARIMA(1, 1, 2)  & \\textbf{  Log Likelihood     } & -5028.079   \\\\\n\\textbf{Date:}                   & Tue, 02 Jul 2024 & \\textbf{  AIC                } & 10064.158   \\\\\n\\textbf{Time:}                   &     09:36:06     & \\textbf{  BIC                } & 10088.529   \\\\\n\\textbf{Sample:}                 &        0         & \\textbf{  HQIC               } & 10072.886   \\\\\n\\textbf{}                        &      - 3272      & \\textbf{                     } &             \\\\\n\\textbf{Covariance Type:}        &       opg        & \\textbf{                     } &             \\\\\n\\bottomrule\n\\end{tabular}\n\\begin{tabular}{lcccccc}\n                & \\textbf{coef} & \\textbf{std err} & \\textbf{z} & \\textbf{P$> |$z$|$} & \\textbf{[0.025} & \\textbf{0.975]}  \\\\\n\\midrule\n\\textbf{ar.L1}  &       0.7834  &        0.072     &    10.894  &         0.000        &        0.642    &        0.924     \\\\\n\\textbf{ma.L1}  &      -0.8442  &        0.074     &   -11.442  &         0.000        &       -0.989    &       -0.700     \\\\\n\\textbf{ma.L2}  &       0.0209  &        0.013     &     1.605  &         0.108        &       -0.005    &        0.046     \\\\\n\\textbf{sigma2} &       1.2667  &        0.012     &   107.835  &         0.000        &        1.244    &        1.290     \\\\\n\\bottomrule\n\\end{tabular}\n\\begin{tabular}{lclc}\n\\textbf{Ljung-Box (L1) (Q):}     &  0.00 & \\textbf{  Jarque-Bera (JB):  } & 21077.78  \\\\\n\\textbf{Prob(Q):}                &  0.95 & \\textbf{  Prob(JB):          } &   0.00    \\\\\n\\textbf{Heteroskedasticity (H):} & 44.06 & \\textbf{  Skew:              } &  -0.10    \\\\\n\\textbf{Prob(H) (two-sided):}    &  0.00 & \\textbf{  Kurtosis:          } &  15.43    \\\\\n\\bottomrule\n\\end{tabular}\n%\\caption{SARIMAX Results}\n\\end{center}\n\nWarnings: \\newline\n [1] Covariance matrix calculated using the outer product of gradients (complex-step)."
          },
          "metadata": {},
          "execution_count": 77
        }
      ]
    },
    {
      "cell_type": "markdown",
      "source": [
        "# Forcasting"
      ],
      "metadata": {
        "id": "DSXHyUxDpCX1"
      }
    },
    {
      "cell_type": "markdown",
      "source": [
        "After fitting we need to predict and forecast it for number of days we need"
      ],
      "metadata": {
        "id": "xnJUfvyskx1t"
      }
    },
    {
      "cell_type": "code",
      "source": [
        "# predicting the next 180 days\n",
        "forecast=model.predict(start=len(df[\"Close\"]),end=len(df[\"Close\"])+180)\n",
        "forecast\n",
        "\n",
        "# plot forecast\n",
        "plt.figure(figsize=(10,5))\n",
        "plt.plot(df['Close'],label='actual')\n",
        "plt.plot(forecast,color='red',label='forecast')\n",
        "plt.xlabel('Date')\n",
        "plt.ylabel('Close')\n",
        "plt.title('Stock Price Prediction')\n",
        "plt.legend()\n",
        "plt.show()"
      ],
      "metadata": {
        "colab": {
          "base_uri": "https://localhost:8080/",
          "height": 487
        },
        "id": "vFdrHsJ3kc1y",
        "outputId": "73687704-7f7a-42a8-adfa-b9df7a76cf45"
      },
      "execution_count": 78,
      "outputs": [
        {
          "output_type": "display_data",
          "data": {
            "text/plain": [
              "<Figure size 1000x500 with 1 Axes>"
            ],
            "image/png": "[encoded data removed]"
          },
          "metadata": {}
        }
      ]
    },
    {
      "cell_type": "markdown",
      "source": [
        "By observing above plot the red line indicate the forecasting of next 180 days"
      ],
      "metadata": {
        "id": "h47edh30mKGh"
      }
    },
    {
      "cell_type": "markdown",
      "source": [
        "# SARIMA MODEL"
      ],
      "metadata": {
        "id": "Pt0KnVf6lxFV"
      }
    },
    {
      "cell_type": "markdown",
      "source": [
        "If sesaonal is there then use sarima"
      ],
      "metadata": {
        "id": "jzyAw0S_mcMt"
      }
    },
    {
      "cell_type": "code",
      "source": [
        "\n",
        "p,d,q=4,1,4                                                         #defining p,d,q values\n",
        "model=SARIMAX(df['Close'],order=(p,d,q),seasonal_order=(p,d,q,12))  #Fitting SARIMA\n",
        "model=model.fit()\n",
        "print(model.summary())                                              #model summary"
      ],
      "metadata": {
        "colab": {
          "base_uri": "https://localhost:8080/"
        },
        "id": "BaREraXAkwLQ",
        "outputId": "668dd179-afd1-4a4f-fb1e-8b8ebbf463d7"
      },
      "execution_count": 79,
      "outputs": [
        {
          "output_type": "stream",
          "name": "stdout",
          "text": [
            "                                     SARIMAX Results                                      \n",
            "==========================================================================================\n",
            "Dep. Variable:                              Close   No. Observations:                 3272\n",
            "Model:             SARIMAX(4, 1, 4)x(4, 1, 4, 12)   Log Likelihood               -5019.966\n",
            "Date:                            Tue, 02 Jul 2024   AIC                          10073.933\n",
            "Time:                                    09:43:52   BIC                          10177.449\n",
            "Sample:                                         0   HQIC                         10111.011\n",
            "                                           - 3272                                         \n",
            "Covariance Type:                              opg                                         \n",
            "==============================================================================\n",
            "                 coef    std err          z      P>|z|      [0.025      0.975]\n",
            "------------------------------------------------------------------------------\n",
            "ar.L1          0.2995      0.048      6.197      0.000       0.205       0.394\n",
            "ar.L2          0.6061      0.031     19.616      0.000       0.546       0.667\n",
            "ar.L3          0.4888      0.020     24.101      0.000       0.449       0.529\n",
            "ar.L4         -0.8256      0.039    -20.917      0.000      -0.903      -0.748\n",
            "ma.L1         -0.3325      0.050     -6.679      0.000      -0.430      -0.235\n",
            "ma.L2         -0.6044      0.029    -20.910      0.000      -0.661      -0.548\n",
            "ma.L3         -0.5150      0.020    -26.213      0.000      -0.554      -0.477\n",
            "ma.L4          0.8323      0.043     19.394      0.000       0.748       0.916\n",
            "ar.S.L12      -2.0142      0.047    -43.213      0.000      -2.106      -1.923\n",
            "ar.S.L24      -1.9734      0.061    -32.103      0.000      -2.094      -1.853\n",
            "ar.S.L36      -0.9041      0.056    -16.093      0.000      -1.014      -0.794\n",
            "ar.S.L48       0.0180      0.012      1.495      0.135      -0.006       0.041\n",
            "ma.S.L12       1.0013      0.271      3.691      0.000       0.470       1.533\n",
            "ma.S.L24      -0.0388      0.536     -0.072      0.942      -1.089       1.011\n",
            "ma.S.L36      -1.0473      0.524     -1.999      0.046      -2.074      -0.021\n",
            "ma.S.L48      -0.9148      0.249     -3.678      0.000      -1.402      -0.427\n",
            "sigma2         1.2462      0.331      3.770      0.000       0.598       1.894\n",
            "===================================================================================\n",
            "Ljung-Box (L1) (Q):                   3.46   Jarque-Bera (JB):             19715.99\n",
            "Prob(Q):                              0.06   Prob(JB):                         0.00\n",
            "Heteroskedasticity (H):              42.63   Skew:                            -0.16\n",
            "Prob(H) (two-sided):                  0.00   Kurtosis:                        15.05\n",
            "===================================================================================\n",
            "\n",
            "Warnings:\n",
            "[1] Covariance matrix calculated using the outer product of gradients (complex-step).\n"
          ]
        }
      ]
    },
    {
      "cell_type": "markdown",
      "source": [
        "Forecasing it for 180 days"
      ],
      "metadata": {
        "id": "Uk_zmjHoo1PR"
      }
    },
    {
      "cell_type": "code",
      "source": [
        "# predict the next 180 days\n",
        "predictions=model.predict(start=len(df[\"Close\"]),end=len(df[\"Close\"])+180)\n",
        "\n",
        "# plot the prediction\n",
        "plt.figure(figsize=(10,5))\n",
        "plt.plot(df['Close'],label='actual')\n",
        "plt.plot(predictions,color=\"red\",label='forecast')\n",
        "plt.xlabel('Date')\n",
        "plt.ylabel('Close')\n",
        "plt.title('Stock Price Prediction')\n",
        "plt.legend()\n",
        "plt.show()"
      ],
      "metadata": {
        "colab": {
          "base_uri": "https://localhost:8080/",
          "height": 487
        },
        "id": "zzpKrun9lvIu",
        "outputId": "4027e299-8968-41aa-d330-b5f3c2de65db"
      },
      "execution_count": 80,
      "outputs": [
        {
          "output_type": "display_data",
          "data": {
            "text/plain": [
              "<Figure size 1000x500 with 1 Axes>"
            ],
            "image/png": "[encoded data removed]"
          },
          "metadata": {}
        }
      ]
    },
    {
      "cell_type": "markdown",
      "source": [
        "By observing above plot the red line indicate the forecasting of next 180 days"
      ],
      "metadata": {
        "id": "4s6ZxwwtpUBn"
      }
    },
    {
      "cell_type": "code",
      "source": [
        "# df.set_index('Date',inplace=True)\n",
        "# future_dates=[df.index[-1]+ DateOffset(months=x)for x in range(0,24)]\n",
        "# future_dataset_df=pd.DataFrame(index=future_dates[1:],columns=df.columns)\n",
        "# future_df=pd.concat([df,future_dataset_df])\n",
        "# future_df['forecast'] = model.predict(start = 8, end = 12, dynamic= True)\n",
        "# future_dataset_df"
      ],
      "metadata": {
        "id": "lJTTKEXgpXPe"
      },
      "execution_count": 81,
      "outputs": []
    },
    {
      "cell_type": "markdown",
      "source": [
        "## Hypertuning"
      ],
      "metadata": {
        "id": "O7MFlyd2vX29"
      }
    },
    {
      "cell_type": "code",
      "source": [
        "p=d=q=range(0,2)\n",
        "pdq=list(itertools.product(p,d,q))\n",
        "seasonal_pdq=[(x[1],x[1],x[2],12) for x in list(itertools.product(p,d,q))]\n",
        "\n",
        "print('Examples of parameter combinations for Seasonal ARIMA...')\n",
        "print('SARIMAX: {} x {}'.format(pdq[1],seasonal_pdq[1]))\n",
        "\n",
        "best_aic=np.inf\n",
        "best_pdq=None\n",
        "best_seasonal_pdq=None\n",
        "best_model=None\n",
        "\n",
        "\n",
        "for param in pdq:\n",
        "  for param_seasonal in seasonal_pdq:\n",
        "     try:\n",
        "\n",
        "        temp_model=SARIMAX(df['Close'],order=param,seasonal_order=param_seasonal,enforce_stationarity=False,enforce_invertibility=False)\n",
        "        results=temp_model.fit()\n",
        "\n",
        "        if results.aic<best_aic:\n",
        "          best_model=results\n",
        "          best_pdq=param\n",
        "          best_seasonal_pdq=param_seasonal\n",
        "          best_aic=results.aic\n",
        "     except:\n",
        "        continue\n",
        "        temp_model=temp_model.fit()\n",
        "print('Best SARIMAX{}x{}12 - AIC:{}'.format(best_pdq,best_seasonal_pdq,best_aic))\n",
        "\n",
        "\n",
        "# predict next 180 days\n",
        "model=SARIMAX(df['Close'],order=best_pdq,seasonal_order=best_seasonal_pdq,enforce_stationarity=False,enforce_invertibility=False)\n",
        "model=model.fit()\n",
        "predictions=model.predict(start=len(df[\"Close\"]),end=len(df[\"Close\"])+180)\n",
        "\n",
        "plt.figure(figsize=(10,5))\n",
        "plt.plot(df['Close'],label='actual')\n",
        "plt.plot(predictions,color=\"red\",label='forecast')\n",
        "plt.xlabel('Date')\n",
        "plt.ylabel('Close')\n",
        "plt.title('Stock Price Prediction')\n",
        "plt.legend(loc=\"upper left\")\n",
        "plt.show()"
      ],
      "metadata": {
        "id": "D4CudiIQjKkZ",
        "colab": {
          "base_uri": "https://localhost:8080/",
          "height": 539
        },
        "outputId": "2b85239d-1e00-4ee7-8bb8-257f6bd27440"
      },
      "execution_count": 83,
      "outputs": [
        {
          "output_type": "stream",
          "name": "stdout",
          "text": [
            "Examples of parameter combinations for Seasonal ARIMA...\n",
            "SARIMAX: (0, 0, 1) x (0, 0, 1, 12)\n",
            "Best SARIMAX(1, 1, 1)x(0, 0, 1, 12)12 - AIC:10034.862984016667\n"
          ]
        },
        {
          "output_type": "display_data",
          "data": {
            "text/plain": [
              "<Figure size 1000x500 with 1 Axes>"
            ],
            "image/png": "[encoded data removed]"
          },
          "metadata": {}
        }
      ]
    },
    {
      "cell_type": "markdown",
      "source": [
        "Above output shows the forecast after hypertuning\n"
      ],
      "metadata": {
        "id": "f79EEXUOzED7"
      }
    },
    {
      "cell_type": "markdown",
      "source": [
        "# Conclusion"
      ],
      "metadata": {
        "id": "PPJchGnr0joP"
      }
    },
    {
      "cell_type": "markdown",
      "source": [
        "* The best-performing SARIMA model was identified with parameters (1, 1, 1) x (0, 0, 1, 12), based on the lowest AIC value (10034.862894016667).\n",
        "* The model predicts a slight decline in stock prices in the immediate future, consistent with the recent trend observed in the actual data.\n",
        "\n",
        "* The forecasted stock prices (in red) show a relatively flat trend compared to the actual stock prices (in blue), indicating that the model predicts a stable price in the immediate future\n",
        "* To improve the accuracy of future forecasts, consider experimenting with more advanced models such as Long Short-Term Memory (LSTM) networks, or Prophet. Additionally, perform further hyperparameter tuning and include more recent data to better capture the current market trends."
      ],
      "metadata": {
        "id": "BTnNekP90mZ6"
      }
    }
  ]
}